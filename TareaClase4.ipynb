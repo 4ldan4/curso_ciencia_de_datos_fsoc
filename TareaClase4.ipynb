{
 "cells": [
  {
   "cell_type": "code",
   "execution_count": 1,
   "id": "a4757df4-0778-4b2e-825d-426f9cb8d1a6",
   "metadata": {},
   "outputs": [],
   "source": [
    "import matplotlib.pyplot as plt"
   ]
  },
  {
   "cell_type": "code",
   "execution_count": 2,
   "id": "8000de9f-3005-4ce3-ad37-cc8214a9acf9",
   "metadata": {},
   "outputs": [],
   "source": [
    "import pandas as pd"
   ]
  },
  {
   "cell_type": "code",
   "execution_count": 3,
   "id": "01380e78-e6db-4003-8f8e-00a33064e0c4",
   "metadata": {},
   "outputs": [],
   "source": [
    "import seaborn as sns"
   ]
  },
  {
   "cell_type": "code",
   "execution_count": 4,
   "id": "981fd9ed-18e1-4af7-a47a-133b486d2d6a",
   "metadata": {},
   "outputs": [],
   "source": [
    "import numpy as np"
   ]
  },
  {
   "cell_type": "code",
   "execution_count": 14,
   "id": "f265a693-bf19-4f26-af17-7fb9cd2bf740",
   "metadata": {},
   "outputs": [],
   "source": [
    "stroke = pd.read_csv(r\"C:\\Users\\Aldy\\Downloads\\stroke.csv\")"
   ]
  },
  {
   "cell_type": "markdown",
   "id": "77d6f30b-0a50-47cf-8567-aeb975f6cc31",
   "metadata": {},
   "source": [
    "Realizar un análisis gráfico del siguiente dataset:"
   ]
  },
  {
   "cell_type": "markdown",
   "id": "0d1b2aa3-a2a4-493c-8612-7b6a0032540e",
   "metadata": {},
   "source": [
    "http://www.kaggle.com/datasets/fedesoriano/stroke-prediction-dataset"
   ]
  },
  {
   "cell_type": "markdown",
   "id": "9d3a450e-ba7f-43fd-bbb7-72830c160b1d",
   "metadata": {},
   "source": [
    "¿Qué tipo de variables identifica? Clasifíquelas."
   ]
  },
  {
   "cell_type": "code",
   "execution_count": 15,
   "id": "afa213b3-11b4-48b3-ac00-aab3e516a123",
   "metadata": {},
   "outputs": [
    {
     "data": {
      "text/plain": [
       "id                     int64\n",
       "gender                object\n",
       "age                  float64\n",
       "hypertension           int64\n",
       "heart_disease          int64\n",
       "ever_married          object\n",
       "work_type             object\n",
       "Residence_type        object\n",
       "avg_glucose_level    float64\n",
       "bmi                  float64\n",
       "smoking_status        object\n",
       "stroke                 int64\n",
       "dtype: object"
      ]
     },
     "execution_count": 15,
     "metadata": {},
     "output_type": "execute_result"
    }
   ],
   "source": [
    "stroke.dtypes"
   ]
  },
  {
   "cell_type": "markdown",
   "id": "2f2c3147-adc3-4681-938d-e3e4b2cf6b48",
   "metadata": {},
   "source": [
    "- ID: Variable cuantitativa discreta\n",
    "- Gender: Variable cualitativa nominal\n",
    "- Age: Variable cuantitativa continua\n",
    "- Hypertension: Variable cuantitativa discreta\n",
    "- Heart_disease: Variable cuantitativa discreta\n",
    "- Ever_married: Variable cualitativa nominal\n",
    "- Work_type: Variable cualitativa nominal\n",
    "- Residence_type: Variable cualitativa nominal\n",
    "- Avg_glucose_level: Variable cuantitativa continua\n",
    "- BMI: Variable cuantitativa continua\n",
    "- Smoking_status: Variable cualitativa nominal\n",
    "- Stroke: Variable cuantitativa discreta"
   ]
  },
  {
   "cell_type": "markdown",
   "id": "39099f48-2b09-4886-913f-b16aef0b8d7f",
   "metadata": {},
   "source": [
    "¿Qué hipótesis puede plantear de este set de datos respecto a la variable stroke?"
   ]
  },
  {
   "cell_type": "code",
   "execution_count": 16,
   "id": "d7ebf2e8-2138-48ae-b3de-0af2bc560d6c",
   "metadata": {},
   "outputs": [
    {
     "data": {
      "text/html": [
       "<div>\n",
       "<style scoped>\n",
       "    .dataframe tbody tr th:only-of-type {\n",
       "        vertical-align: middle;\n",
       "    }\n",
       "\n",
       "    .dataframe tbody tr th {\n",
       "        vertical-align: top;\n",
       "    }\n",
       "\n",
       "    .dataframe thead th {\n",
       "        text-align: right;\n",
       "    }\n",
       "</style>\n",
       "<table border=\"1\" class=\"dataframe\">\n",
       "  <thead>\n",
       "    <tr style=\"text-align: right;\">\n",
       "      <th></th>\n",
       "      <th>id</th>\n",
       "      <th>gender</th>\n",
       "      <th>age</th>\n",
       "      <th>hypertension</th>\n",
       "      <th>heart_disease</th>\n",
       "      <th>ever_married</th>\n",
       "      <th>work_type</th>\n",
       "      <th>Residence_type</th>\n",
       "      <th>avg_glucose_level</th>\n",
       "      <th>bmi</th>\n",
       "      <th>smoking_status</th>\n",
       "      <th>stroke</th>\n",
       "    </tr>\n",
       "  </thead>\n",
       "  <tbody>\n",
       "    <tr>\n",
       "      <th>0</th>\n",
       "      <td>9046</td>\n",
       "      <td>Male</td>\n",
       "      <td>67.0</td>\n",
       "      <td>0</td>\n",
       "      <td>1</td>\n",
       "      <td>Yes</td>\n",
       "      <td>Private</td>\n",
       "      <td>Urban</td>\n",
       "      <td>228.69</td>\n",
       "      <td>36.6</td>\n",
       "      <td>formerly smoked</td>\n",
       "      <td>1</td>\n",
       "    </tr>\n",
       "    <tr>\n",
       "      <th>1</th>\n",
       "      <td>51676</td>\n",
       "      <td>Female</td>\n",
       "      <td>61.0</td>\n",
       "      <td>0</td>\n",
       "      <td>0</td>\n",
       "      <td>Yes</td>\n",
       "      <td>Self-employed</td>\n",
       "      <td>Rural</td>\n",
       "      <td>202.21</td>\n",
       "      <td>NaN</td>\n",
       "      <td>never smoked</td>\n",
       "      <td>1</td>\n",
       "    </tr>\n",
       "    <tr>\n",
       "      <th>2</th>\n",
       "      <td>31112</td>\n",
       "      <td>Male</td>\n",
       "      <td>80.0</td>\n",
       "      <td>0</td>\n",
       "      <td>1</td>\n",
       "      <td>Yes</td>\n",
       "      <td>Private</td>\n",
       "      <td>Rural</td>\n",
       "      <td>105.92</td>\n",
       "      <td>32.5</td>\n",
       "      <td>never smoked</td>\n",
       "      <td>1</td>\n",
       "    </tr>\n",
       "    <tr>\n",
       "      <th>3</th>\n",
       "      <td>60182</td>\n",
       "      <td>Female</td>\n",
       "      <td>49.0</td>\n",
       "      <td>0</td>\n",
       "      <td>0</td>\n",
       "      <td>Yes</td>\n",
       "      <td>Private</td>\n",
       "      <td>Urban</td>\n",
       "      <td>171.23</td>\n",
       "      <td>34.4</td>\n",
       "      <td>smokes</td>\n",
       "      <td>1</td>\n",
       "    </tr>\n",
       "    <tr>\n",
       "      <th>4</th>\n",
       "      <td>1665</td>\n",
       "      <td>Female</td>\n",
       "      <td>79.0</td>\n",
       "      <td>1</td>\n",
       "      <td>0</td>\n",
       "      <td>Yes</td>\n",
       "      <td>Self-employed</td>\n",
       "      <td>Rural</td>\n",
       "      <td>174.12</td>\n",
       "      <td>24.0</td>\n",
       "      <td>never smoked</td>\n",
       "      <td>1</td>\n",
       "    </tr>\n",
       "    <tr>\n",
       "      <th>5</th>\n",
       "      <td>56669</td>\n",
       "      <td>Male</td>\n",
       "      <td>81.0</td>\n",
       "      <td>0</td>\n",
       "      <td>0</td>\n",
       "      <td>Yes</td>\n",
       "      <td>Private</td>\n",
       "      <td>Urban</td>\n",
       "      <td>186.21</td>\n",
       "      <td>29.0</td>\n",
       "      <td>formerly smoked</td>\n",
       "      <td>1</td>\n",
       "    </tr>\n",
       "    <tr>\n",
       "      <th>6</th>\n",
       "      <td>53882</td>\n",
       "      <td>Male</td>\n",
       "      <td>74.0</td>\n",
       "      <td>1</td>\n",
       "      <td>1</td>\n",
       "      <td>Yes</td>\n",
       "      <td>Private</td>\n",
       "      <td>Rural</td>\n",
       "      <td>70.09</td>\n",
       "      <td>27.4</td>\n",
       "      <td>never smoked</td>\n",
       "      <td>1</td>\n",
       "    </tr>\n",
       "    <tr>\n",
       "      <th>7</th>\n",
       "      <td>10434</td>\n",
       "      <td>Female</td>\n",
       "      <td>69.0</td>\n",
       "      <td>0</td>\n",
       "      <td>0</td>\n",
       "      <td>No</td>\n",
       "      <td>Private</td>\n",
       "      <td>Urban</td>\n",
       "      <td>94.39</td>\n",
       "      <td>22.8</td>\n",
       "      <td>never smoked</td>\n",
       "      <td>1</td>\n",
       "    </tr>\n",
       "    <tr>\n",
       "      <th>8</th>\n",
       "      <td>27419</td>\n",
       "      <td>Female</td>\n",
       "      <td>59.0</td>\n",
       "      <td>0</td>\n",
       "      <td>0</td>\n",
       "      <td>Yes</td>\n",
       "      <td>Private</td>\n",
       "      <td>Rural</td>\n",
       "      <td>76.15</td>\n",
       "      <td>NaN</td>\n",
       "      <td>Unknown</td>\n",
       "      <td>1</td>\n",
       "    </tr>\n",
       "    <tr>\n",
       "      <th>9</th>\n",
       "      <td>60491</td>\n",
       "      <td>Female</td>\n",
       "      <td>78.0</td>\n",
       "      <td>0</td>\n",
       "      <td>0</td>\n",
       "      <td>Yes</td>\n",
       "      <td>Private</td>\n",
       "      <td>Urban</td>\n",
       "      <td>58.57</td>\n",
       "      <td>24.2</td>\n",
       "      <td>Unknown</td>\n",
       "      <td>1</td>\n",
       "    </tr>\n",
       "  </tbody>\n",
       "</table>\n",
       "</div>"
      ],
      "text/plain": [
       "      id  gender   age  hypertension  heart_disease ever_married  \\\n",
       "0   9046    Male  67.0             0              1          Yes   \n",
       "1  51676  Female  61.0             0              0          Yes   \n",
       "2  31112    Male  80.0             0              1          Yes   \n",
       "3  60182  Female  49.0             0              0          Yes   \n",
       "4   1665  Female  79.0             1              0          Yes   \n",
       "5  56669    Male  81.0             0              0          Yes   \n",
       "6  53882    Male  74.0             1              1          Yes   \n",
       "7  10434  Female  69.0             0              0           No   \n",
       "8  27419  Female  59.0             0              0          Yes   \n",
       "9  60491  Female  78.0             0              0          Yes   \n",
       "\n",
       "       work_type Residence_type  avg_glucose_level   bmi   smoking_status  \\\n",
       "0        Private          Urban             228.69  36.6  formerly smoked   \n",
       "1  Self-employed          Rural             202.21   NaN     never smoked   \n",
       "2        Private          Rural             105.92  32.5     never smoked   \n",
       "3        Private          Urban             171.23  34.4           smokes   \n",
       "4  Self-employed          Rural             174.12  24.0     never smoked   \n",
       "5        Private          Urban             186.21  29.0  formerly smoked   \n",
       "6        Private          Rural              70.09  27.4     never smoked   \n",
       "7        Private          Urban              94.39  22.8     never smoked   \n",
       "8        Private          Rural              76.15   NaN          Unknown   \n",
       "9        Private          Urban              58.57  24.2          Unknown   \n",
       "\n",
       "   stroke  \n",
       "0       1  \n",
       "1       1  \n",
       "2       1  \n",
       "3       1  \n",
       "4       1  \n",
       "5       1  \n",
       "6       1  \n",
       "7       1  \n",
       "8       1  \n",
       "9       1  "
      ]
     },
     "execution_count": 16,
     "metadata": {},
     "output_type": "execute_result"
    }
   ],
   "source": [
    "stroke.head(10)"
   ]
  },
  {
   "cell_type": "code",
   "execution_count": 19,
   "id": "5d1df6cd-a197-475c-8dee-fbb99e7f9385",
   "metadata": {},
   "outputs": [
    {
     "data": {
      "text/plain": [
       "<seaborn.axisgrid.FacetGrid at 0x2a48bc5afd0>"
      ]
     },
     "execution_count": 19,
     "metadata": {},
     "output_type": "execute_result"
    },
    {
     "data": {
      "image/png": "[encoded data removed]",
      "text/plain": [
       "<Figure size 558.875x500 with 1 Axes>"
      ]
     },
     "metadata": {},
     "output_type": "display_data"
    }
   ],
   "source": [
    "sns.catplot(data=stroke, x=\"age\", hue=\"stroke\", kind=\"count\").set(title=\"Edad vs Cantidad de ACV\")"
   ]
  },
  {
   "cell_type": "markdown",
   "id": "24b893eb-27db-46c8-9a39-93834043d8f6",
   "metadata": {},
   "source": [
    "Hipótesis1: A mayor edad, aumenta la probabilidad de experimentar un ACV."
   ]
  },
  {
   "cell_type": "code",
   "execution_count": 20,
   "id": "b8998ea5-6926-4f21-8192-decd2d9b61d2",
   "metadata": {},
   "outputs": [
    {
     "data": {
      "text/plain": [
       "<seaborn.axisgrid.FacetGrid at 0x2a48c061150>"
      ]
     },
     "execution_count": 20,
     "metadata": {},
     "output_type": "execute_result"
    },
    {
     "data": {
      "image/png": "[encoded data removed]",
      "text/plain": [
       "<Figure size 558.875x500 with 1 Axes>"
      ]
     },
     "metadata": {},
     "output_type": "display_data"
    }
   ],
   "source": [
    "sns.catplot(data=stroke, x=\"gender\", hue=\"stroke\", kind=\"count\").set(title=\"Género vs Cantidad de ACV\")"
   ]
  },
  {
   "cell_type": "markdown",
   "id": "aaec3d3e-3d2f-4849-82bc-7b14b27b15d5",
   "metadata": {},
   "source": [
    "Hipótesis2: Los pacientes masculinos presentan mayores probabilidades de experimentar un AVC que las pacientes femeninas."
   ]
  },
  {
   "cell_type": "code",
   "execution_count": 21,
   "id": "32c7a3d9-b76f-4b00-b3e0-4f61131517f0",
   "metadata": {},
   "outputs": [
    {
     "data": {
      "text/plain": [
       "<seaborn.axisgrid.FacetGrid at 0x2a48c111150>"
      ]
     },
     "execution_count": 21,
     "metadata": {},
     "output_type": "execute_result"
    },
    {
     "data": {
      "image/png": "[encoded data removed]",
      "text/plain": [
       "<Figure size 558.875x500 with 1 Axes>"
      ]
     },
     "metadata": {},
     "output_type": "display_data"
    }
   ],
   "source": [
    "sns.catplot(data=stroke, x=\"hypertension\", hue=\"stroke\", kind=\"count\").set(title=\"Hipertensión vs Cantidad de ACV\")"
   ]
  },
  {
   "cell_type": "markdown",
   "id": "becbb81b-61d1-4a9c-8aec-d91bf264cb2f",
   "metadata": {},
   "source": [
    "Hipótesis3: Los pacientes con hipertensión presentan mayores probabilidades de experimentar un ACV que aquellos que no la presentan."
   ]
  },
  {
   "cell_type": "code",
   "execution_count": 23,
   "id": "fb53b0a9-5139-4905-abe7-2195b2d53c7d",
   "metadata": {},
   "outputs": [
    {
     "data": {
      "text/plain": [
       "<seaborn.axisgrid.FacetGrid at 0x2a48c177490>"
      ]
     },
     "execution_count": 23,
     "metadata": {},
     "output_type": "execute_result"
    },
    {
     "data": {
      "image/png": "[encoded data removed]",
      "text/plain": [
       "<Figure size 558.875x500 with 1 Axes>"
      ]
     },
     "metadata": {},
     "output_type": "display_data"
    }
   ],
   "source": [
    "sns.catplot(data=stroke, x=\"heart_disease\", hue=\"stroke\", kind=\"count\").set(title=\"Enfermedad coronaria vs Cantidad de ACV\")"
   ]
  },
  {
   "cell_type": "markdown",
   "id": "70ba97d3-0021-4d61-b27e-e20133228f3e",
   "metadata": {},
   "source": [
    "Hipótesis4: Los pacientes con enfermedades coronarias presentan mayores probabilidades de experimentar un ACV que aquellos que no las presentan."
   ]
  },
  {
   "cell_type": "code",
   "execution_count": 24,
   "id": "d3d89a00-979b-4f82-886c-f18ee9946f31",
   "metadata": {},
   "outputs": [
    {
     "data": {
      "text/plain": [
       "<seaborn.axisgrid.FacetGrid at 0x2a48c1c4e10>"
      ]
     },
     "execution_count": 24,
     "metadata": {},
     "output_type": "execute_result"
    },
    {
     "data": {
      "image/png": "[encoded data removed]",
      "text/plain": [
       "<Figure size 558.875x500 with 1 Axes>"
      ]
     },
     "metadata": {},
     "output_type": "display_data"
    }
   ],
   "source": [
    "sns.catplot(data=stroke, x=\"ever_married\", hue=\"stroke\", kind=\"count\").set(title=\"Estado civil vs Cantidad de ACV\")"
   ]
  },
  {
   "cell_type": "markdown",
   "id": "7307fde2-87d5-430c-a87c-50eb08a145b9",
   "metadata": {},
   "source": [
    "Hipótesis5: Los pacientes casados o divorciados presentan mayores probabilidades de experimentar un ACV que aquellos que nunca lo estuvieron.\n"
   ]
  },
  {
   "cell_type": "code",
   "execution_count": 25,
   "id": "a2f1caaa-f67f-459a-bc01-365f7b7cb299",
   "metadata": {},
   "outputs": [
    {
     "data": {
      "text/plain": [
       "<seaborn.axisgrid.FacetGrid at 0x2a48bfdecd0>"
      ]
     },
     "execution_count": 25,
     "metadata": {},
     "output_type": "execute_result"
    },
    {
     "data": {
      "image/png": "[encoded data removed]",
      "text/plain": [
       "<Figure size 558.875x500 with 1 Axes>"
      ]
     },
     "metadata": {},
     "output_type": "display_data"
    }
   ],
   "source": [
    "sns.catplot(data=stroke, x=\"work_type\", hue=\"stroke\", kind=\"count\").set(title=\"Tipo de empleo vs Cantidad de ACV\")"
   ]
  },
  {
   "cell_type": "markdown",
   "id": "0225c4b1-b1d2-4f64-9aca-88a3c87a1666",
   "metadata": {},
   "source": [
    "Hipótesis6: Los pacientes que trabajan en el sector público o los cuentapropistas presentan mayores probabilidades de experimentar un ACV que aquellos que lo hacen en otros sectores.\n"
   ]
  },
  {
   "cell_type": "code",
   "execution_count": 27,
   "id": "58e7ece4-21a3-4a8b-9deb-2f4ecf70d0ae",
   "metadata": {},
   "outputs": [
    {
     "data": {
      "text/plain": [
       "<seaborn.axisgrid.FacetGrid at 0x2a48c0aea10>"
      ]
     },
     "execution_count": 27,
     "metadata": {},
     "output_type": "execute_result"
    },
    {
     "data": {
      "image/png": "[encoded data removed]",
      "text/plain": [
       "<Figure size 558.875x500 with 1 Axes>"
      ]
     },
     "metadata": {},
     "output_type": "display_data"
    }
   ],
   "source": [
    "sns.catplot(data=stroke, x=\"Residence_type\", hue=\"stroke\", kind=\"count\").set(title=\"Lugar de residencia vs Cantidad de ACV\")"
   ]
  },
  {
   "cell_type": "markdown",
   "id": "80b87daf-dfcd-43eb-92e3-2e92d0af3aa0",
   "metadata": {},
   "source": [
    "Hipótesis7: Los pacientes que viven en la ciudad presentan mayores probabilidades de experimentar un ACV que aquellos que viven en el campo."
   ]
  },
  {
   "cell_type": "code",
   "execution_count": 34,
   "id": "89c184cc-5598-4249-8bde-3868236a8b3c",
   "metadata": {},
   "outputs": [
    {
     "data": {
      "text/plain": [
       "<seaborn.axisgrid.FacetGrid at 0x2a4aa099750>"
      ]
     },
     "execution_count": 34,
     "metadata": {},
     "output_type": "execute_result"
    },
    {
     "data": {
      "image/png": "[encoded data removed]",
      "text/plain": [
       "<Figure size 558.875x500 with 1 Axes>"
      ]
     },
     "metadata": {},
     "output_type": "display_data"
    }
   ],
   "source": [
    "sns.catplot(data=stroke, x=\"avg_glucose_level\", hue=\"stroke\", kind=\"count\").set(title=\"Nivel de glucosa en sangre vs Cantidad de ACV\")\n"
   ]
  },
  {
   "cell_type": "markdown",
   "id": "81f870e9-3b70-4761-a3e0-b217f2873349",
   "metadata": {},
   "source": [
    "Hipótesis8: Las personas diabéticas (con niveles de glucosa en sangre superiores o inferiores a 90-110 mg/dl) presentan mayores probabilidades de experimentar un AVC que aquellas que no lo son."
   ]
  },
  {
   "cell_type": "code",
   "execution_count": 35,
   "id": "8e60eb52-1904-4599-87e0-e1d1de5b16fe",
   "metadata": {},
   "outputs": [
    {
     "data": {
      "text/plain": [
       "<seaborn.axisgrid.FacetGrid at 0x2a4ae146290>"
      ]
     },
     "execution_count": 35,
     "metadata": {},
     "output_type": "execute_result"
    },
    {
     "data": {
      "image/png": "[encoded data removed]",
      "text/plain": [
       "<Figure size 558.875x500 with 1 Axes>"
      ]
     },
     "metadata": {},
     "output_type": "display_data"
    }
   ],
   "source": [
    "sns.catplot(data=stroke, x=\"bmi\", hue=\"stroke\", kind=\"count\").set(title=\"índice de masa corporal vs Cantidad de ACV\")\n"
   ]
  },
  {
   "cell_type": "markdown",
   "id": "b420e335-c107-4f63-99c3-9f74727d9981",
   "metadata": {},
   "source": [
    "Hipótesis9: Las personas con sobrepeso presentan mayores probabilidades de experimentar un ACV que aquellas que no."
   ]
  },
  {
   "cell_type": "code",
   "execution_count": 37,
   "id": "cbcb8db5-a581-4226-b8fa-26e6a169ebb3",
   "metadata": {},
   "outputs": [
    {
     "data": {
      "text/plain": [
       "<seaborn.axisgrid.FacetGrid at 0x2a494b373d0>"
      ]
     },
     "execution_count": 37,
     "metadata": {},
     "output_type": "execute_result"
    },
    {
     "data": {
      "image/png": "[encoded data removed]",
      "text/plain": [
       "<Figure size 558.875x500 with 1 Axes>"
      ]
     },
     "metadata": {},
     "output_type": "display_data"
    }
   ],
   "source": [
    "sns.catplot(data=stroke, x=\"smoking_status\", hue=\"stroke\", kind=\"count\").set(title=\"Estatus de fumador vs Cantidad de ACV\")\n"
   ]
  },
  {
   "cell_type": "markdown",
   "id": "cfb1b257-a113-4e79-a1da-47656f85ab2b",
   "metadata": {},
   "source": [
    "Hipótesis10: Las personas fumadoras o que fumaron alguna vez presentan mayores probabilidades de experimentar un ACV que aquellas que nunca lo hicieron."
   ]
  },
  {
   "cell_type": "markdown",
   "id": "77d5eb00-85a9-4e5b-86c2-fa5fa066e428",
   "metadata": {},
   "source": [
    "¿Qué tipo de gráficos utilizaría y por que?"
   ]
  },
  {
   "cell_type": "markdown",
   "id": "e463b7f4-c5db-4f8a-85f0-2dd003e059da",
   "metadata": {},
   "source": [
    "Utilicé el tipo de gráfico \"catplot\" dado que permite dar cuenta de la frecuencia en que se presentan las categorías de múltiples variables (ya sean cualitativas o cuantitativas) y compararlas, lo cual resulta útil para analizar la probabilidad de que un paciente desarrolle un ACV a partir de los parámetros presentados con anterioridad.\n"
   ]
  },
  {
   "cell_type": "markdown",
   "id": "81c94837-cbe4-416c-9aca-d8c4111f25c8",
   "metadata": {},
   "source": [
    "¿Qué medidas de tendencia central y medidas de orden hay en cada columna? Interprete cada una de ellas."
   ]
  },
  {
   "cell_type": "code",
   "execution_count": 38,
   "id": "f6a326b8-c718-494b-ac49-8537e12d5856",
   "metadata": {},
   "outputs": [
    {
     "data": {
      "text/html": [
       "<div>\n",
       "<style scoped>\n",
       "    .dataframe tbody tr th:only-of-type {\n",
       "        vertical-align: middle;\n",
       "    }\n",
       "\n",
       "    .dataframe tbody tr th {\n",
       "        vertical-align: top;\n",
       "    }\n",
       "\n",
       "    .dataframe thead th {\n",
       "        text-align: right;\n",
       "    }\n",
       "</style>\n",
       "<table border=\"1\" class=\"dataframe\">\n",
       "  <thead>\n",
       "    <tr style=\"text-align: right;\">\n",
       "      <th></th>\n",
       "      <th>id</th>\n",
       "      <th>age</th>\n",
       "      <th>hypertension</th>\n",
       "      <th>heart_disease</th>\n",
       "      <th>avg_glucose_level</th>\n",
       "      <th>bmi</th>\n",
       "      <th>stroke</th>\n",
       "    </tr>\n",
       "  </thead>\n",
       "  <tbody>\n",
       "    <tr>\n",
       "      <th>count</th>\n",
       "      <td>5110.000000</td>\n",
       "      <td>5110.000000</td>\n",
       "      <td>5110.000000</td>\n",
       "      <td>5110.000000</td>\n",
       "      <td>5110.000000</td>\n",
       "      <td>4909.000000</td>\n",
       "      <td>5110.000000</td>\n",
       "    </tr>\n",
       "    <tr>\n",
       "      <th>mean</th>\n",
       "      <td>36517.829354</td>\n",
       "      <td>43.226614</td>\n",
       "      <td>0.097456</td>\n",
       "      <td>0.054012</td>\n",
       "      <td>106.147677</td>\n",
       "      <td>28.893237</td>\n",
       "      <td>0.048728</td>\n",
       "    </tr>\n",
       "    <tr>\n",
       "      <th>std</th>\n",
       "      <td>21161.721625</td>\n",
       "      <td>22.612647</td>\n",
       "      <td>0.296607</td>\n",
       "      <td>0.226063</td>\n",
       "      <td>45.283560</td>\n",
       "      <td>7.854067</td>\n",
       "      <td>0.215320</td>\n",
       "    </tr>\n",
       "    <tr>\n",
       "      <th>min</th>\n",
       "      <td>67.000000</td>\n",
       "      <td>0.080000</td>\n",
       "      <td>0.000000</td>\n",
       "      <td>0.000000</td>\n",
       "      <td>55.120000</td>\n",
       "      <td>10.300000</td>\n",
       "      <td>0.000000</td>\n",
       "    </tr>\n",
       "    <tr>\n",
       "      <th>25%</th>\n",
       "      <td>17741.250000</td>\n",
       "      <td>25.000000</td>\n",
       "      <td>0.000000</td>\n",
       "      <td>0.000000</td>\n",
       "      <td>77.245000</td>\n",
       "      <td>23.500000</td>\n",
       "      <td>0.000000</td>\n",
       "    </tr>\n",
       "    <tr>\n",
       "      <th>50%</th>\n",
       "      <td>36932.000000</td>\n",
       "      <td>45.000000</td>\n",
       "      <td>0.000000</td>\n",
       "      <td>0.000000</td>\n",
       "      <td>91.885000</td>\n",
       "      <td>28.100000</td>\n",
       "      <td>0.000000</td>\n",
       "    </tr>\n",
       "    <tr>\n",
       "      <th>75%</th>\n",
       "      <td>54682.000000</td>\n",
       "      <td>61.000000</td>\n",
       "      <td>0.000000</td>\n",
       "      <td>0.000000</td>\n",
       "      <td>114.090000</td>\n",
       "      <td>33.100000</td>\n",
       "      <td>0.000000</td>\n",
       "    </tr>\n",
       "    <tr>\n",
       "      <th>max</th>\n",
       "      <td>72940.000000</td>\n",
       "      <td>82.000000</td>\n",
       "      <td>1.000000</td>\n",
       "      <td>1.000000</td>\n",
       "      <td>271.740000</td>\n",
       "      <td>97.600000</td>\n",
       "      <td>1.000000</td>\n",
       "    </tr>\n",
       "  </tbody>\n",
       "</table>\n",
       "</div>"
      ],
      "text/plain": [
       "                 id          age  hypertension  heart_disease  \\\n",
       "count   5110.000000  5110.000000   5110.000000    5110.000000   \n",
       "mean   36517.829354    43.226614      0.097456       0.054012   \n",
       "std    21161.721625    22.612647      0.296607       0.226063   \n",
       "min       67.000000     0.080000      0.000000       0.000000   \n",
       "25%    17741.250000    25.000000      0.000000       0.000000   \n",
       "50%    36932.000000    45.000000      0.000000       0.000000   \n",
       "75%    54682.000000    61.000000      0.000000       0.000000   \n",
       "max    72940.000000    82.000000      1.000000       1.000000   \n",
       "\n",
       "       avg_glucose_level          bmi       stroke  \n",
       "count        5110.000000  4909.000000  5110.000000  \n",
       "mean          106.147677    28.893237     0.048728  \n",
       "std            45.283560     7.854067     0.215320  \n",
       "min            55.120000    10.300000     0.000000  \n",
       "25%            77.245000    23.500000     0.000000  \n",
       "50%            91.885000    28.100000     0.000000  \n",
       "75%           114.090000    33.100000     0.000000  \n",
       "max           271.740000    97.600000     1.000000  "
      ]
     },
     "execution_count": 38,
     "metadata": {},
     "output_type": "execute_result"
    }
   ],
   "source": [
    "stroke.describe()"
   ]
  },
  {
   "cell_type": "code",
   "execution_count": 39,
   "id": "616a07c4-9e35-45e2-89a7-b8134d2114cc",
   "metadata": {},
   "outputs": [
    {
     "data": {
      "text/plain": [
       "45.0"
      ]
     },
     "execution_count": 39,
     "metadata": {},
     "output_type": "execute_result"
    }
   ],
   "source": [
    "stroke[\"age\"].median()"
   ]
  },
  {
   "cell_type": "code",
   "execution_count": 40,
   "id": "dd56cf65-6624-4d1f-8968-c32f1131b942",
   "metadata": {},
   "outputs": [
    {
     "data": {
      "text/plain": [
       "0    78.0\n",
       "Name: age, dtype: float64"
      ]
     },
     "execution_count": 40,
     "metadata": {},
     "output_type": "execute_result"
    }
   ],
   "source": [
    "stroke[\"age\"].mode()\n"
   ]
  },
  {
   "cell_type": "markdown",
   "id": "b5e20d59-f0bd-4c3e-92c6-f0c3aa14d553",
   "metadata": {},
   "source": [
    "Variable age:\n",
    "\n",
    "Medidas de tendencia central:\n",
    "- La media o el promedio de edad es igual a 43 años.\n",
    "- La mediana es igual a 45 años, lo cual implica que el 50% de los pacientes tiene 45 años o menos.\n",
    "- La moda es igual a 78 años, lo cual implica que es la edad que más se repite en el conjunto de pacientes.\n",
    "  \n",
    "Medidas de orden:\n",
    "\n",
    "- Como mencionamos, y a partir del análisis de percentiles, podemos afirmar que el 50% de los pacientes tiene 45 años o menos.\n",
    "- A partir del análisis de cuartiles, podemos afirmar que el 75% de los pacientes tiene 61 años o menos y que el 25% de los pacientes tiene 25 años o menos.\n"
   ]
  },
  {
   "cell_type": "code",
   "execution_count": 41,
   "id": "082eb3ce-2669-410f-a999-13f1abdc836c",
   "metadata": {},
   "outputs": [
    {
     "data": {
      "text/plain": [
       "0.0"
      ]
     },
     "execution_count": 41,
     "metadata": {},
     "output_type": "execute_result"
    }
   ],
   "source": [
    "stroke[\"hypertension\"].median()"
   ]
  },
  {
   "cell_type": "code",
   "execution_count": 42,
   "id": "f8f0764b-c815-4836-bce0-4a2a2d2af26a",
   "metadata": {},
   "outputs": [
    {
     "data": {
      "text/plain": [
       "0    0\n",
       "Name: hypertension, dtype: int64"
      ]
     },
     "execution_count": 42,
     "metadata": {},
     "output_type": "execute_result"
    }
   ],
   "source": [
    "stroke[\"hypertension\"].mode()\n"
   ]
  },
  {
   "cell_type": "markdown",
   "id": "2e6e2e00-18c2-481f-b3bd-519a5231e0d5",
   "metadata": {},
   "source": [
    "Variable hypertension:\n",
    "\n",
    "Medidas de tendencia central:\n",
    "- La media o el promedio es igual a 0, lo cual implica que la mayoría de pacientes no presentan niveles de presión arterial muy elevados.\n",
    "- La mediana es igual a 0, lo cual implica que el 50% de los pacientes no presentan niveles de presión arterial muy elevados.\n",
    "- La moda es igual a 0, lo cual implica que la no presencia de niveles de presión arterial muy elevados es lo que se repite en el conjunto de pacientes.\n",
    "\n",
    "Medidas de orden:\n",
    "- Como mencionamos, y a partir del análisis de percentiles, podemos afirmar que el 50% de los pacientes no presentan niveles de presión arterial muy elevados.\n",
    "- A partir del análisis de cuartiles, podemos afirmar que tanto el 25% como el 75% de los pacientes no presentan niveles de presión arterial muy elevados.\n"
   ]
  },
  {
   "cell_type": "code",
   "execution_count": 43,
   "id": "59656200-34c0-4f46-aee7-dc1b537ff387",
   "metadata": {},
   "outputs": [
    {
     "data": {
      "text/plain": [
       "0.0"
      ]
     },
     "execution_count": 43,
     "metadata": {},
     "output_type": "execute_result"
    }
   ],
   "source": [
    "stroke[\"heart_disease\"].median()\n"
   ]
  },
  {
   "cell_type": "code",
   "execution_count": 44,
   "id": "b68755bf-6507-44a2-aac0-90e43c0fbe89",
   "metadata": {},
   "outputs": [
    {
     "data": {
      "text/plain": [
       "0    0\n",
       "Name: heart_disease, dtype: int64"
      ]
     },
     "execution_count": 44,
     "metadata": {},
     "output_type": "execute_result"
    }
   ],
   "source": [
    "stroke[\"heart_disease\"].mode()"
   ]
  },
  {
   "cell_type": "markdown",
   "id": "71ba3ac6-d68e-4699-8c62-57eb39700a46",
   "metadata": {},
   "source": [
    "Variable heart_disease:\n",
    "\n",
    "Medidas de tendencia central:\n",
    "- La media o el promedio es igual a 0, lo cual implica que la mayoría de pacientes no presentan enfermedades coronarias.\n",
    "- La mediana es igual a 0, lo cual implica que el 50% de los pacientes no presentan enfermedades coronarias.\n",
    "- La moda es igual a 0, lo cual implica que la no presencia de enfermedades coronarias es lo que se repite en el conjunto de pacientes.\n",
    "\n",
    "Medidas de orden:\n",
    "- Como mencionamos, y a partir del análisis de percentiles, podemos afirmar que el 50% de los pacientes no presentan enfermedades coronarias.\n",
    "- A partir del análisis de cuartiles, podemos afirmar que tanto el 25% como el 75% de los pacientes no presentan enfermedades coronarias.\n"
   ]
  },
  {
   "cell_type": "code",
   "execution_count": 45,
   "id": "9e6a7b7e-3449-4b5d-b621-ba8c332b1961",
   "metadata": {},
   "outputs": [
    {
     "data": {
      "text/plain": [
       "91.88499999999999"
      ]
     },
     "execution_count": 45,
     "metadata": {},
     "output_type": "execute_result"
    }
   ],
   "source": [
    "stroke[\"avg_glucose_level\"].median()"
   ]
  },
  {
   "cell_type": "code",
   "execution_count": 46,
   "id": "d6970f11-5d2d-4f50-86d1-7301d7240d3c",
   "metadata": {},
   "outputs": [
    {
     "data": {
      "text/plain": [
       "0    93.88\n",
       "Name: avg_glucose_level, dtype: float64"
      ]
     },
     "execution_count": 46,
     "metadata": {},
     "output_type": "execute_result"
    }
   ],
   "source": [
    "stroke[\"avg_glucose_level\"].mode()"
   ]
  },
  {
   "cell_type": "markdown",
   "id": "5abe9ae3-6f62-4f3e-a625-950628e5375b",
   "metadata": {},
   "source": [
    "Variable avg_glucose_level:\n",
    "\n",
    "Medidas de tendencia central:\n",
    "- La media o el promedio es igual a 106, lo cual implica que la mayoría de pacientes presentan niveles de glucosa en sangre normales (entre 90 y 110 mg/dl).\n",
    "- La mediana es igual a 92, lo cual implica que el 50% de los pacientes presentan niveles de glucosa en sangre normales.\n",
    "- La moda es igual a 94, lo cual implica que la presencia de niveles de glucosa en sangre normales es lo que se repite en el conjunto de pacientes.\n",
    "\n",
    "Medidas de orden:\n",
    "- Como mencionamos, y a partir del análisis de percentiles, podemos afirmar que el 50% de los pacientes presentan niveles de glucosa en sangre normales.\n",
    "- A partir del análisis de cuartiles, podemos afirmar que mientras que el 25% de los pacientes poseen niveles de glucosa en sangre anormales (igual a 77), el 75% presenta niveles de glucosa en sangre cercanos a lo normal aunque relativamente elevados (igual a 114).\n"
   ]
  },
  {
   "cell_type": "code",
   "execution_count": 47,
   "id": "16a9f70a-3366-4fd8-94b0-d92631ab51ca",
   "metadata": {},
   "outputs": [
    {
     "data": {
      "text/plain": [
       "28.1"
      ]
     },
     "execution_count": 47,
     "metadata": {},
     "output_type": "execute_result"
    }
   ],
   "source": [
    "stroke[\"bmi\"].median()\n"
   ]
  },
  {
   "cell_type": "code",
   "execution_count": 48,
   "id": "44e0a744-0ecb-4254-9d35-cbecc43e9ff7",
   "metadata": {},
   "outputs": [
    {
     "data": {
      "text/plain": [
       "0    28.7\n",
       "Name: bmi, dtype: float64"
      ]
     },
     "execution_count": 48,
     "metadata": {},
     "output_type": "execute_result"
    }
   ],
   "source": [
    "stroke[\"bmi\"].mode()\n"
   ]
  },
  {
   "cell_type": "markdown",
   "id": "aaee296f-274b-4272-a0ab-e5dc6b946007",
   "metadata": {},
   "source": [
    "Variable bmi:\n",
    "\n",
    "Medidas de tendencia central:\n",
    "- La media o el promedio es igual a 29, lo cual implica que la mayoría de pacientes presentan sobrepreso (entendiendo que los valores normales del índice de masa corporal van desde 18.5 hasta 25. 25-30 es considerado sobrepeso y más de 30, obesidad).\n",
    "- La mediana es igual a 28, lo cual implica que el 50% de los pacientes presentan sobrepeso.\n",
    "- La moda es igual a 29, lo cual implica que la presencia de sobrepeso es lo que se repite en el conjunto de pacientes.\n",
    "\n",
    "Medidas de orden:\n",
    "- Como mencionamos, y a partir del análisis de percentiles, podemos afirmar que el 50% de los pacientes presentan sobrepeso.\n",
    "- A partir del análisis de cuartiles, podemos afirmar que el 25% de los pacientes presentan un peso óptimo (pues el bmi es igual a 24) mientras que el 75% presentan obesidad (bmi igual a 33). \n"
   ]
  },
  {
   "cell_type": "code",
   "execution_count": 56,
   "id": "4edd1cc6-0643-4ca4-9449-ec689713dd99",
   "metadata": {
    "scrolled": true
   },
   "outputs": [
    {
     "data": {
      "text/html": [
       "<div>\n",
       "<style scoped>\n",
       "    .dataframe tbody tr th:only-of-type {\n",
       "        vertical-align: middle;\n",
       "    }\n",
       "\n",
       "    .dataframe tbody tr th {\n",
       "        vertical-align: top;\n",
       "    }\n",
       "\n",
       "    .dataframe thead th {\n",
       "        text-align: right;\n",
       "    }\n",
       "</style>\n",
       "<table border=\"1\" class=\"dataframe\">\n",
       "  <thead>\n",
       "    <tr style=\"text-align: right;\">\n",
       "      <th></th>\n",
       "      <th>id</th>\n",
       "      <th>gender</th>\n",
       "      <th>age</th>\n",
       "      <th>hypertension</th>\n",
       "      <th>heart_disease</th>\n",
       "      <th>ever_married</th>\n",
       "      <th>work_type</th>\n",
       "      <th>Residence_type</th>\n",
       "      <th>avg_glucose_level</th>\n",
       "      <th>bmi</th>\n",
       "      <th>smoking_status</th>\n",
       "      <th>stroke</th>\n",
       "    </tr>\n",
       "  </thead>\n",
       "  <tbody>\n",
       "    <tr>\n",
       "      <th>count</th>\n",
       "      <td>5110.000000</td>\n",
       "      <td>5110</td>\n",
       "      <td>5110.000000</td>\n",
       "      <td>5110.000000</td>\n",
       "      <td>5110.000000</td>\n",
       "      <td>5110</td>\n",
       "      <td>5110</td>\n",
       "      <td>5110</td>\n",
       "      <td>5110.000000</td>\n",
       "      <td>4909.000000</td>\n",
       "      <td>5110</td>\n",
       "      <td>5110.000000</td>\n",
       "    </tr>\n",
       "    <tr>\n",
       "      <th>unique</th>\n",
       "      <td>NaN</td>\n",
       "      <td>3</td>\n",
       "      <td>NaN</td>\n",
       "      <td>NaN</td>\n",
       "      <td>NaN</td>\n",
       "      <td>2</td>\n",
       "      <td>5</td>\n",
       "      <td>2</td>\n",
       "      <td>NaN</td>\n",
       "      <td>NaN</td>\n",
       "      <td>4</td>\n",
       "      <td>NaN</td>\n",
       "    </tr>\n",
       "    <tr>\n",
       "      <th>top</th>\n",
       "      <td>NaN</td>\n",
       "      <td>Female</td>\n",
       "      <td>NaN</td>\n",
       "      <td>NaN</td>\n",
       "      <td>NaN</td>\n",
       "      <td>Yes</td>\n",
       "      <td>Private</td>\n",
       "      <td>Urban</td>\n",
       "      <td>NaN</td>\n",
       "      <td>NaN</td>\n",
       "      <td>never smoked</td>\n",
       "      <td>NaN</td>\n",
       "    </tr>\n",
       "    <tr>\n",
       "      <th>freq</th>\n",
       "      <td>NaN</td>\n",
       "      <td>2994</td>\n",
       "      <td>NaN</td>\n",
       "      <td>NaN</td>\n",
       "      <td>NaN</td>\n",
       "      <td>3353</td>\n",
       "      <td>2925</td>\n",
       "      <td>2596</td>\n",
       "      <td>NaN</td>\n",
       "      <td>NaN</td>\n",
       "      <td>1892</td>\n",
       "      <td>NaN</td>\n",
       "    </tr>\n",
       "    <tr>\n",
       "      <th>mean</th>\n",
       "      <td>36517.829354</td>\n",
       "      <td>NaN</td>\n",
       "      <td>43.226614</td>\n",
       "      <td>0.097456</td>\n",
       "      <td>0.054012</td>\n",
       "      <td>NaN</td>\n",
       "      <td>NaN</td>\n",
       "      <td>NaN</td>\n",
       "      <td>106.147677</td>\n",
       "      <td>28.893237</td>\n",
       "      <td>NaN</td>\n",
       "      <td>0.048728</td>\n",
       "    </tr>\n",
       "    <tr>\n",
       "      <th>std</th>\n",
       "      <td>21161.721625</td>\n",
       "      <td>NaN</td>\n",
       "      <td>22.612647</td>\n",
       "      <td>0.296607</td>\n",
       "      <td>0.226063</td>\n",
       "      <td>NaN</td>\n",
       "      <td>NaN</td>\n",
       "      <td>NaN</td>\n",
       "      <td>45.283560</td>\n",
       "      <td>7.854067</td>\n",
       "      <td>NaN</td>\n",
       "      <td>0.215320</td>\n",
       "    </tr>\n",
       "    <tr>\n",
       "      <th>min</th>\n",
       "      <td>67.000000</td>\n",
       "      <td>NaN</td>\n",
       "      <td>0.080000</td>\n",
       "      <td>0.000000</td>\n",
       "      <td>0.000000</td>\n",
       "      <td>NaN</td>\n",
       "      <td>NaN</td>\n",
       "      <td>NaN</td>\n",
       "      <td>55.120000</td>\n",
       "      <td>10.300000</td>\n",
       "      <td>NaN</td>\n",
       "      <td>0.000000</td>\n",
       "    </tr>\n",
       "    <tr>\n",
       "      <th>25%</th>\n",
       "      <td>17741.250000</td>\n",
       "      <td>NaN</td>\n",
       "      <td>25.000000</td>\n",
       "      <td>0.000000</td>\n",
       "      <td>0.000000</td>\n",
       "      <td>NaN</td>\n",
       "      <td>NaN</td>\n",
       "      <td>NaN</td>\n",
       "      <td>77.245000</td>\n",
       "      <td>23.500000</td>\n",
       "      <td>NaN</td>\n",
       "      <td>0.000000</td>\n",
       "    </tr>\n",
       "    <tr>\n",
       "      <th>50%</th>\n",
       "      <td>36932.000000</td>\n",
       "      <td>NaN</td>\n",
       "      <td>45.000000</td>\n",
       "      <td>0.000000</td>\n",
       "      <td>0.000000</td>\n",
       "      <td>NaN</td>\n",
       "      <td>NaN</td>\n",
       "      <td>NaN</td>\n",
       "      <td>91.885000</td>\n",
       "      <td>28.100000</td>\n",
       "      <td>NaN</td>\n",
       "      <td>0.000000</td>\n",
       "    </tr>\n",
       "    <tr>\n",
       "      <th>75%</th>\n",
       "      <td>54682.000000</td>\n",
       "      <td>NaN</td>\n",
       "      <td>61.000000</td>\n",
       "      <td>0.000000</td>\n",
       "      <td>0.000000</td>\n",
       "      <td>NaN</td>\n",
       "      <td>NaN</td>\n",
       "      <td>NaN</td>\n",
       "      <td>114.090000</td>\n",
       "      <td>33.100000</td>\n",
       "      <td>NaN</td>\n",
       "      <td>0.000000</td>\n",
       "    </tr>\n",
       "    <tr>\n",
       "      <th>max</th>\n",
       "      <td>72940.000000</td>\n",
       "      <td>NaN</td>\n",
       "      <td>82.000000</td>\n",
       "      <td>1.000000</td>\n",
       "      <td>1.000000</td>\n",
       "      <td>NaN</td>\n",
       "      <td>NaN</td>\n",
       "      <td>NaN</td>\n",
       "      <td>271.740000</td>\n",
       "      <td>97.600000</td>\n",
       "      <td>NaN</td>\n",
       "      <td>1.000000</td>\n",
       "    </tr>\n",
       "  </tbody>\n",
       "</table>\n",
       "</div>"
      ],
      "text/plain": [
       "                  id  gender          age  hypertension  heart_disease  \\\n",
       "count    5110.000000    5110  5110.000000   5110.000000    5110.000000   \n",
       "unique           NaN       3          NaN           NaN            NaN   \n",
       "top              NaN  Female          NaN           NaN            NaN   \n",
       "freq             NaN    2994          NaN           NaN            NaN   \n",
       "mean    36517.829354     NaN    43.226614      0.097456       0.054012   \n",
       "std     21161.721625     NaN    22.612647      0.296607       0.226063   \n",
       "min        67.000000     NaN     0.080000      0.000000       0.000000   \n",
       "25%     17741.250000     NaN    25.000000      0.000000       0.000000   \n",
       "50%     36932.000000     NaN    45.000000      0.000000       0.000000   \n",
       "75%     54682.000000     NaN    61.000000      0.000000       0.000000   \n",
       "max     72940.000000     NaN    82.000000      1.000000       1.000000   \n",
       "\n",
       "       ever_married work_type Residence_type  avg_glucose_level          bmi  \\\n",
       "count          5110      5110           5110        5110.000000  4909.000000   \n",
       "unique            2         5              2                NaN          NaN   \n",
       "top             Yes   Private          Urban                NaN          NaN   \n",
       "freq           3353      2925           2596                NaN          NaN   \n",
       "mean            NaN       NaN            NaN         106.147677    28.893237   \n",
       "std             NaN       NaN            NaN          45.283560     7.854067   \n",
       "min             NaN       NaN            NaN          55.120000    10.300000   \n",
       "25%             NaN       NaN            NaN          77.245000    23.500000   \n",
       "50%             NaN       NaN            NaN          91.885000    28.100000   \n",
       "75%             NaN       NaN            NaN         114.090000    33.100000   \n",
       "max             NaN       NaN            NaN         271.740000    97.600000   \n",
       "\n",
       "       smoking_status       stroke  \n",
       "count            5110  5110.000000  \n",
       "unique              4          NaN  \n",
       "top      never smoked          NaN  \n",
       "freq             1892          NaN  \n",
       "mean              NaN     0.048728  \n",
       "std               NaN     0.215320  \n",
       "min               NaN     0.000000  \n",
       "25%               NaN     0.000000  \n",
       "50%               NaN     0.000000  \n",
       "75%               NaN     0.000000  \n",
       "max               NaN     1.000000  "
      ]
     },
     "execution_count": 56,
     "metadata": {},
     "output_type": "execute_result"
    }
   ],
   "source": [
    "stroke.describe(include=\"all\")"
   ]
  },
  {
   "cell_type": "code",
   "execution_count": 58,
   "id": "666c55ac-3afe-479e-af3e-236786cd11c4",
   "metadata": {},
   "outputs": [
    {
     "data": {
      "text/plain": [
       "0    Female\n",
       "Name: gender, dtype: object"
      ]
     },
     "execution_count": 58,
     "metadata": {},
     "output_type": "execute_result"
    }
   ],
   "source": [
    "stroke[\"gender\"].mode()"
   ]
  },
  {
   "cell_type": "code",
   "execution_count": 59,
   "id": "6d25d998-ab3b-43a3-bc0e-6bac70301b27",
   "metadata": {},
   "outputs": [
    {
     "data": {
      "text/plain": [
       "0    Yes\n",
       "Name: ever_married, dtype: object"
      ]
     },
     "execution_count": 59,
     "metadata": {},
     "output_type": "execute_result"
    }
   ],
   "source": [
    "stroke[\"ever_married\"].mode()"
   ]
  },
  {
   "cell_type": "markdown",
   "id": "5a237ba1-4b56-4822-a984-5357c11e80ed",
   "metadata": {},
   "source": [
    "Variable gender:\n",
    "\n",
    "Medidas de tendencia central:\n",
    "- Top es female, lo cual implica que la mayoría de pacientes son mujeres.\n",
    "- La moda es female, lo cual implica que el ser mujer es lo que se repite en el conjunto de pacientes.\n",
    "\n",
    "No hay información sobre sus medidas de orden."
   ]
  },
  {
   "cell_type": "markdown",
   "id": "1cbad34a-aaad-47d3-b7e1-e12d0f5222c3",
   "metadata": {},
   "source": [
    "Variable ever_married:\n",
    "Medidas de tendencia central:\n",
    "- Top es yes, lo cual implica que la mayoría de los pacientes están casados o divorciados.\n",
    "- La moda es yes, lo cual implica que estar casado o divorciado es lo que se repite en el conjunto de pacientes.\n",
    "\n",
    "No hay información sobre sus medidas de orden."
   ]
  },
  {
   "cell_type": "code",
   "execution_count": 60,
   "id": "0c4d246b-9ae1-4b7c-b433-cb1f8b30dbf5",
   "metadata": {},
   "outputs": [
    {
     "data": {
      "text/plain": [
       "0    Private\n",
       "Name: work_type, dtype: object"
      ]
     },
     "execution_count": 60,
     "metadata": {},
     "output_type": "execute_result"
    }
   ],
   "source": [
    "stroke[\"work_type\"].mode()"
   ]
  },
  {
   "cell_type": "markdown",
   "id": "3f2c2bc2-f685-4dc3-85ae-e92d06adf074",
   "metadata": {},
   "source": [
    "Variable work_type:\n",
    "Medidas de tendencia central:\n",
    "- Top es private, lo cual implica que la mayoría de los pacientes trabajan en el sector privado.\n",
    "- La moda es private, lo cual implica que trabajar en el sector privado es lo que se repite en el conjunto de pacientes.\n",
    "\n",
    "No hay información sobre sus medidas de orden."
   ]
  },
  {
   "cell_type": "code",
   "execution_count": 61,
   "id": "fd759c33-89db-4303-96f2-de09a7ad4a11",
   "metadata": {},
   "outputs": [
    {
     "data": {
      "text/plain": [
       "0    Urban\n",
       "Name: Residence_type, dtype: object"
      ]
     },
     "execution_count": 61,
     "metadata": {},
     "output_type": "execute_result"
    }
   ],
   "source": [
    "stroke[\"Residence_type\"].mode()\n"
   ]
  },
  {
   "cell_type": "markdown",
   "id": "3721d3d2-acf8-4092-9f69-5eed9d71300f",
   "metadata": {},
   "source": [
    "Variable residence_type:\n",
    "Medidas de tendencia central:\n",
    "- Top es urban, lo cual implica que la mayoría de los pacientes viven en ciudades.\n",
    "- La moda es urban, lo cual implica que vivir en la ciudad es lo que se repite en el conjunto de pacientes.\n",
    "\n",
    "No hay información sobre sus medidas de orden."
   ]
  },
  {
   "cell_type": "code",
   "execution_count": 63,
   "id": "0a488c6b-9fae-43f0-8bef-9753e8d65279",
   "metadata": {},
   "outputs": [
    {
     "data": {
      "text/plain": [
       "0    never smoked\n",
       "Name: smoking_status, dtype: object"
      ]
     },
     "execution_count": 63,
     "metadata": {},
     "output_type": "execute_result"
    }
   ],
   "source": [
    "stroke[\"smoking_status\"].mode()\n"
   ]
  },
  {
   "cell_type": "markdown",
   "id": "675d370d-3aba-47cc-a30f-c4d027ae2317",
   "metadata": {},
   "source": [
    "Variable smoking_status:\n",
    "Medidas de tendencia central:\n",
    "- Top es never smoked, lo cual implica que la mayoría de los pacientes nunca han fumado.\n",
    "- La moda es never smoked, lo cual implica que el carácter de no fumador es lo que se repite en el conjunto de pacientes.\n",
    "\n",
    "No hay información sobre sus medidas de orden."
   ]
  },
  {
   "cell_type": "markdown",
   "id": "59fcd324-a9f3-407c-b403-f88fff8f3343",
   "metadata": {},
   "source": [
    "¿Hay outliers?, ¿a qué se deben?"
   ]
  },
  {
   "cell_type": "markdown",
   "id": "faf54247-ca72-4539-96e9-bf511be00d21",
   "metadata": {},
   "source": [
    "Sí, en todas las columnas. Se deben a la ausencia de información o valores en una celda."
   ]
  },
  {
   "cell_type": "code",
   "execution_count": null,
   "id": "9c3385d2-cf1e-4eea-a123-f03fde0ad94a",
   "metadata": {},
   "outputs": [],
   "source": []
  }
 ],
 "metadata": {
  "kernelspec": {
   "display_name": "Python 3 (ipykernel)",
   "language": "python",
   "name": "python3"
  },
  "language_info": {
   "codemirror_mode": {
    "name": "ipython",
    "version": 3
   },
   "file_extension": ".py",
   "mimetype": "text/x-python",
   "name": "python",
   "nbconvert_exporter": "python",
   "pygments_lexer": "ipython3",
   "version": "3.11.5"
  }
 },
 "nbformat": 4,
 "nbformat_minor": 5
}
